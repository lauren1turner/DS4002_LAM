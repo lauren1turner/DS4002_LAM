{
  "nbformat": 4,
  "nbformat_minor": 0,
  "metadata": {
    "colab": {
      "provenance": [],
      "authorship_tag": "ABX9TyPHs851KGSBL2+FkT1fBBj+",
      "include_colab_link": true
    },
    "kernelspec": {
      "name": "python3",
      "display_name": "Python 3"
    },
    "language_info": {
      "name": "python"
    }
  },
  "cells": [
    {
      "cell_type": "markdown",
      "metadata": {
        "id": "view-in-github",
        "colab_type": "text"
      },
      "source": [
        "<a href=\"https://colab.research.google.com/github/lauren1turner/DS4002_LAM/blob/project3/EDA_project3.ipynb\" target=\"_parent\"><img src=\"https://colab.research.google.com/assets/colab-badge.svg\" alt=\"Open In Colab\"/></a>"
      ]
    },
    {
      "cell_type": "code",
      "source": [
        "import os\n",
        "from PIL import Image\n",
        "\n",
        "# Set the folder path (where your images are located)\n",
        "folder_path = 'grayscale'  # This is where your .jpg images are stored\n",
        "output_folder = folder_path  # You want to overwrite/save them in the same folder\n",
        "\n",
        "# Make sure the 'grayscale' folder exists\n",
        "os.makedirs(output_folder, exist_ok=True)\n",
        "\n",
        "# Loop through each file in the 'grayscale' folder\n",
        "for filename in os.listdir(folder_path):\n",
        "    if filename.lower().endswith(\".jpg\"):\n",
        "        image_path = os.path.join(folder_path, filename)\n",
        "\n",
        "        # Open the image and convert it to grayscale (again, just in case)\n",
        "        img = Image.open(image_path).convert(\"L\")\n",
        "\n",
        "        # Save the grayscale image (overwriting or saving in the same folder)\n",
        "        save_path = os.path.join(output_folder, filename)\n",
        "        img.save(save_path)\n",
        "\n",
        "        print(f\"Grayscaled: {filename}\")\n"
      ],
      "metadata": {
        "id": "x3_e6XWheLpQ",
        "colab": {
          "base_uri": "https://localhost:8080/"
        },
        "outputId": "ed8998b9-5d05-445c-d763-6b5120902365"
      },
      "execution_count": 13,
      "outputs": [
        {
          "output_type": "stream",
          "name": "stdout",
          "text": [
            "Grayscaled: image-176-a.jpg\n",
            "Grayscaled: image-178-a.jpg\n",
            "Grayscaled: image-232-c.jpg\n",
            "Grayscaled: image-229-c.jpg\n",
            "Grayscaled: image-194-a.jpg\n",
            "Grayscaled: image-220-c.jpg\n",
            "Grayscaled: image-297-a.jpg\n",
            "Grayscaled: image-289-a.jpg\n",
            "Grayscaled: image-170-a.jpg\n",
            "Grayscaled: image-181-a.jpg\n",
            "Grayscaled: image-193-a.jpg\n",
            "Grayscaled: image-276-a.jpg\n",
            "Grayscaled: image-296-a.jpg\n",
            "Grayscaled: image-208-c.jpg\n",
            "Grayscaled: image-294-a.jpg\n",
            "Grayscaled: image-213-a.jpg\n",
            "Grayscaled: image-188-a.jpg\n",
            "Grayscaled: image-287-a.jpg\n",
            "Grayscaled: image-202-c.jpg\n",
            "Grayscaled: image-214-c.jpg\n",
            "Grayscaled: image-190-a.jpg\n",
            "Grayscaled: image-281-a.jpg\n",
            "Grayscaled: image-293-a.jpg\n",
            "Grayscaled: image-171-a.jpg\n",
            "Grayscaled: image-184-a.jpg\n",
            "Grayscaled: image-199-a.jpg\n",
            "Grayscaled: image-172-a.jpg\n",
            "Grayscaled: image-197-a.jpg\n",
            "Grayscaled: image-186-a.jpg\n",
            "Grayscaled: image-187-a.jpg\n",
            "Grayscaled: image-222-a.jpg\n",
            "Grayscaled: image-277-a.jpg\n",
            "Grayscaled: image-211-c.jpg\n",
            "Grayscaled: image-234-a.jpg\n",
            "Grayscaled: image-271-a.jpg\n",
            "Grayscaled: image-280-a.jpg\n",
            "Grayscaled: image-185-a.jpg\n",
            "Grayscaled: image-179-a.jpg\n",
            "Grayscaled: image-195-a.jpg\n",
            "Grayscaled: image-189-a.jpg\n",
            "Grayscaled: image-207-a.jpg\n",
            "Grayscaled: image-217-c.jpg\n",
            "Grayscaled: image-174-a.jpg\n",
            "Grayscaled: image-223-c.jpg\n",
            "Grayscaled: image-298-a.jpg\n",
            "Grayscaled: image-282-a.jpg\n",
            "Grayscaled: image-275-a.jpg\n",
            "Grayscaled: image-173-a.jpg\n",
            "Grayscaled: image-286-a.jpg\n",
            "Grayscaled: image-290-a.jpg\n",
            "Grayscaled: image-180-a.jpg\n",
            "Grayscaled: image-279-a.jpg\n",
            "Grayscaled: image-292-a.jpg\n",
            "Grayscaled: image-272-a.jpg\n",
            "Grayscaled: image-196-a.jpg\n",
            "Grayscaled: image-228-a.jpg\n",
            "Grayscaled: image-175-a.jpg\n",
            "Grayscaled: image-283-a.jpg\n",
            "Grayscaled: image-278-a.jpg\n",
            "Grayscaled: image-291-a.jpg\n",
            "Grayscaled: image-274-a.jpg\n",
            "Grayscaled: image-226-c.jpg\n",
            "Grayscaled: image-295-a.jpg\n",
            "Grayscaled: image-192-a.jpg\n",
            "Grayscaled: image-183-a.jpg\n",
            "Grayscaled: image-182-a.jpg\n",
            "Grayscaled: image-288-a.jpg\n",
            "Grayscaled: image-198-a.jpg\n",
            "Grayscaled: image-299-a.jpg\n",
            "Grayscaled: image-225-a.jpg\n",
            "Grayscaled: image-216-a.jpg\n",
            "Grayscaled: image-201-a.jpg\n",
            "Grayscaled: image-177-a.jpg\n",
            "Grayscaled: image-205-c.jpg\n",
            "Grayscaled: image-270-a.jpg\n",
            "Grayscaled: image-204-a.jpg\n",
            "Grayscaled: image-191-a.jpg\n",
            "Grayscaled: image-210-a.jpg\n",
            "Grayscaled: image-285-a.jpg\n",
            "Grayscaled: image-231-a.jpg\n",
            "Grayscaled: image-219-a.jpg\n",
            "Grayscaled: image-235-c.jpg\n",
            "Grayscaled: image-284-a.jpg\n",
            "Grayscaled: image-273-a.jpg\n"
          ]
        }
      ]
    },
    {
      "cell_type": "code",
      "source": [
        "import os\n",
        "import matplotlib.pyplot as plt\n",
        "from PIL import Image\n",
        "\n",
        "# Set the grayscale folder path\n",
        "gray_folder = 'grayscale'  # Make sure this points to the correct folder\n",
        "\n",
        "# Get the first two .jpg files from the grayscale folder\n",
        "gray_images = [f for f in os.listdir(gray_folder) if f.lower().endswith(\".jpg\")][:2]\n",
        "\n",
        "# Plot histograms\n",
        "plt.figure(figsize=(12, 5))\n",
        "\n",
        "for i, filename in enumerate(gray_images):\n",
        "    image_path = os.path.join(gray_folder, filename)\n",
        "\n",
        "    # Open the image and convert to grayscale just in case\n",
        "    img = Image.open(image_path).convert(\"L\")\n",
        "    pixels = list(img.getdata())\n",
        "\n",
        "    # Create the histogram plot for the image\n",
        "    plt.subplot(1, 2, i+1)\n",
        "    plt.hist(pixels, bins=256, range=(0, 255), color='gray', alpha=0.7)\n",
        "    plt.title(f\"Histogram: {filename}\")\n",
        "    plt.xlabel(\"Pixel Intensity\")\n",
        "    plt.ylabel(\"Frequency\")\n",
        "\n",
        "# Adjust layout to prevent overlap and display the plots\n",
        "plt.tight_layout()\n",
        "plt.show()\n",
        "\n"
      ],
      "metadata": {
        "colab": {
          "base_uri": "https://localhost:8080/",
          "height": 400
        },
        "id": "JHIrp6r51qhx",
        "outputId": "24b20ae0-0231-43bd-f742-cdf4095dc39e"
      },
      "execution_count": 17,
      "outputs": [
        {
          "output_type": "display_data",
          "data": {
            "text/plain": [
              "<Figure size 1200x500 with 2 Axes>"
            ],
            "image/png": "[encoded data removed]"
          },
          "metadata": {}
        }
      ]
    },
    {
      "cell_type": "code",
      "source": [
        "import os\n",
        "from PIL import Image\n",
        "\n",
        "# Set the grayscale folder path\n",
        "gray_folder = 'grayscale'  # Make sure this points to the correct folder\n",
        "\n",
        "# Get all .jpg files in the grayscale folder\n",
        "gray_images = [f for f in os.listdir(gray_folder) if f.lower().endswith(\".jpg\")]\n",
        "\n",
        "# Check if each image is grayscale (mode 'L')\n",
        "non_grayscale_images = []\n",
        "\n",
        "for filename in gray_images:\n",
        "    image_path = os.path.join(gray_folder, filename)\n",
        "    img = Image.open(image_path)\n",
        "\n",
        "    if img.mode != 'L':  # If the image mode is not 'L' (grayscale)\n",
        "        non_grayscale_images.append(filename)\n",
        "\n",
        "# Output the results\n",
        "if non_grayscale_images:\n",
        "    print(f\"The following images are not grayscale: {non_grayscale_images}\")\n",
        "else:\n",
        "    print(\"All images are grayscale.\")\n"
      ],
      "metadata": {
        "colab": {
          "base_uri": "https://localhost:8080/"
        },
        "id": "PkHRBDZe4iOW",
        "outputId": "956d3d13-4d83-4c6a-e030-726172f57a58"
      },
      "execution_count": 18,
      "outputs": [
        {
          "output_type": "stream",
          "name": "stdout",
          "text": [
            "All images are grayscale.\n"
          ]
        }
      ]
    }
  ]
}