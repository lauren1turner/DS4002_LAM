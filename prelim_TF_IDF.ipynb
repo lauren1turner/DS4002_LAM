{
  "nbformat": 4,
  "nbformat_minor": 0,
  "metadata": {
    "colab": {
      "provenance": [],
      "authorship_tag": "ABX9TyPkKUXR4eMEgVU14hEgB4MP",
      "include_colab_link": true
    },
    "kernelspec": {
      "name": "python3",
      "display_name": "Python 3"
    },
    "language_info": {
      "name": "python"
    }
  },
  "cells": [
    {
      "cell_type": "markdown",
      "metadata": {
        "id": "view-in-github",
        "colab_type": "text"
      },
      "source": [
        "<a href=\"https://colab.research.google.com/github/lauren1turner/DS4002_LAM/blob/main/prelim_TF_IDF.ipynb\" target=\"_parent\"><img src=\"https://colab.research.google.com/assets/colab-badge.svg\" alt=\"Open In Colab\"/></a>"
      ]
    },
    {
      "cell_type": "code",
      "execution_count": 10,
      "metadata": {
        "colab": {
          "base_uri": "https://localhost:8080/"
        },
        "id": "2Eo2ZdRiIfO8",
        "outputId": "59482cef-b2ce-42e4-ded7-8e5649c25c09"
      },
      "outputs": [
        {
          "output_type": "stream",
          "name": "stdout",
          "text": [
            "TF-IDF matrix shape: (25, 78)\n",
            "Top 10 features by average TF-IDF score: ['yeah', 'oh', 'know', 'just', 've', 'la', 'don', 'got', 'gettin', 'time']\n"
          ]
        }
      ],
      "source": [
        "import pandas as pd\n",
        "import numpy as np\n",
        "from sklearn.feature_extraction.text import TfidfVectorizer, ENGLISH_STOP_WORDS\n",
        "from sklearn.cluster import KMeans\n",
        "from sklearn.decomposition import PCA\n",
        "import matplotlib.pyplot as plt\n",
        "import seaborn as sns\n",
        "\n",
        "# 1. Load the CSV file\n",
        "df = pd.read_csv('DC_clean.csv')\n",
        "\n",
        "# Ensure the text data is treated as strings (adjust the column name if necessary)\n",
        "documents = df['Lyrics'].astype(str)\n",
        "\n",
        "# 2. Define custom stop words\n",
        "custom_stop_words = {'chorus', 'uh', 'verse', 'like'}\n",
        "\n",
        "# Combine the custom stop words with the default English stop words and convert to a list\n",
        "combined_stop_words = list(ENGLISH_STOP_WORDS.union(custom_stop_words))\n",
        "\n",
        "# 3. Apply TfidfVectorizer to the text data using the combined stop words\n",
        "vectorizer = TfidfVectorizer(stop_words=combined_stop_words, max_df=0.9, min_df=5)\n",
        "tfidf_matrix = vectorizer.fit_transform(documents)\n",
        "print(\"TF-IDF matrix shape:\", tfidf_matrix.shape)\n",
        "\n",
        "# 4. Analysis Part 1: Identify Top Features by Average TF-IDF Score\n",
        "mean_tfidf = tfidf_matrix.mean(axis=0).A1  # Convert to a 1D NumPy array\n",
        "top_indices = np.argsort(mean_tfidf)[::-1][:10]\n",
        "top_features = [vectorizer.get_feature_names_out()[i] for i in top_indices]\n",
        "print(\"Top 10 features by average TF-IDF score:\", top_features)\n",
        "\n"
      ]
    }
  ]
}